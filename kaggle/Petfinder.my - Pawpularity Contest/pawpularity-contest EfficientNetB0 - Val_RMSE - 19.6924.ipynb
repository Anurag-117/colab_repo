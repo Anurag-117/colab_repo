{
 "cells": [
  {
   "cell_type": "markdown",
   "metadata": {},
   "source": [
    "# Petfinder.my - Pawpularity Contest\n",
    "Predict the popularity of shelter pet photos\n",
    "<img src=\"https://storage.googleapis.com/kaggle-competitions/kaggle/25383/logos/header.png\"></img>\n",
    "\n",
    "Analyze raw images and metadata to predict the “Pawpularity” of pet photos. The Pawpularity Score is derived from each pet profile's page view statistics at the listing pages, using an algorithm that normalizes the traffic data across different pages, platforms (web & mobile) and various metrics.\n",
    "\n",
    "## Photo Metadata\n",
    "The train.csv and test.csv files contain metadata for photos in the training set and test set, respectively. Each pet photo is labeled with the value of 1 (Yes) or 0 (No) for each of the following features:\n",
    "\n",
    "- Focus - Pet stands out against uncluttered background, not too close / far.\n",
    "- Eyes - Both eyes are facing front or near-front, with at least 1 eye / pupil decently clear.\n",
    "- Face - Decently clear face, facing front or near-front.\n",
    "- Near - Single pet taking up significant portion of photo (roughly over 50% of photo width or height).\n",
    "- Action - Pet in the middle of an action (e.g., jumping).\n",
    "- Accessory - Accompanying physical or digital accessory / prop (i.e. toy, digital sticker), excluding collar and leash.\n",
    "- Group - More than 1 pet in the photo.\n",
    "- Collage - Digitally-retouched photo (i.e. with digital photo frame, combination of multiple photos).\n",
    "- Human - Human in the photo.\n",
    "- Occlusion - Specific undesirable objects blocking part of the pet (i.e. human, cage or fence). Note that not all blocking objects are considered occlusion.\n",
    "- Info - Custom-added text or labels (i.e. pet name, description).\n",
    "- Blur - Noticeably out of focus or noisy, especially for the pet’s eyes and face. For Blur entries, “Eyes” column is always set to 0."
   ]
  },
  {
   "cell_type": "markdown",
   "metadata": {},
   "source": [
    "# Importing Libraries"
   ]
  },
  {
   "cell_type": "code",
   "execution_count": 1,
   "metadata": {
    "execution": {
     "iopub.execute_input": "2021-09-28T11:07:50.353377Z",
     "iopub.status.busy": "2021-09-28T11:07:50.353069Z",
     "iopub.status.idle": "2021-09-28T11:07:55.505298Z",
     "shell.execute_reply": "2021-09-28T11:07:55.504542Z",
     "shell.execute_reply.started": "2021-09-28T11:07:50.353299Z"
    }
   },
   "outputs": [],
   "source": [
    "import os\n",
    "import pandas as pd\n",
    "import numpy as np\n",
    "import tensorflow as tf\n",
    "from tensorflow import keras\n",
    "from sklearn.model_selection import train_test_split\n",
    "import matplotlib.pyplot as plt\n",
    "import warnings \n",
    "import multiprocessing\n",
    "\n",
    "warnings.filterwarnings('ignore')"
   ]
  },
  {
   "cell_type": "code",
   "execution_count": 34,
   "metadata": {
    "execution": {
     "iopub.execute_input": "2021-09-28T12:07:49.484670Z",
     "iopub.status.busy": "2021-09-28T12:07:49.484406Z",
     "iopub.status.idle": "2021-09-28T12:07:49.489461Z",
     "shell.execute_reply": "2021-09-28T12:07:49.488391Z",
     "shell.execute_reply.started": "2021-09-28T12:07:49.484641Z"
    }
   },
   "outputs": [],
   "source": [
    "TRAIN_PATH = \"../input/petfinder-pawpularity-score/train/\"\n",
    "TEST_PATH = \"../input/petfinder-pawpularity-score/test/\"\n",
    "ROOT_LOGDIR = os.path.join(os.curdir, \"logs\")\n",
    "\n",
    "IMAGE_SIZE = 300\n",
    "BATCH_SIZE = 50\n",
    "NO_OF_EPOCHS = 100"
   ]
  },
  {
   "cell_type": "code",
   "execution_count": 3,
   "metadata": {
    "execution": {
     "iopub.execute_input": "2021-09-28T11:07:55.518284Z",
     "iopub.status.busy": "2021-09-28T11:07:55.518050Z",
     "iopub.status.idle": "2021-09-28T11:07:55.595125Z",
     "shell.execute_reply": "2021-09-28T11:07:55.594484Z",
     "shell.execute_reply.started": "2021-09-28T11:07:55.518258Z"
    }
   },
   "outputs": [],
   "source": [
    "train_df = pd.read_csv(\"../input/petfinder-pawpularity-score/train.csv\")\n",
    "test_df = pd.read_csv(\"../input/petfinder-pawpularity-score/test.csv\")\n",
    "\n",
    "# Adding paths for images\n",
    "train_df[\"Path\"] = TRAIN_PATH + train_df[\"Id\"] + \".jpg\"\n",
    "test_df[\"Path\"] = TEST_PATH + test_df[\"Id\"] + \".jpg\"\n",
    "train_df.head()"
   ]
  },
  {
   "cell_type": "code",
   "execution_count": 4,
   "metadata": {
    "execution": {
     "iopub.execute_input": "2021-09-28T11:07:55.597208Z",
     "iopub.status.busy": "2021-09-28T11:07:55.596958Z",
     "iopub.status.idle": "2021-09-28T11:07:55.611794Z",
     "shell.execute_reply": "2021-09-28T11:07:55.610819Z",
     "shell.execute_reply.started": "2021-09-28T11:07:55.597175Z"
    }
   },
   "outputs": [],
   "source": [
    "test_df.head()"
   ]
  },
  {
   "cell_type": "code",
   "execution_count": 5,
   "metadata": {
    "execution": {
     "iopub.execute_input": "2021-09-28T11:07:55.613610Z",
     "iopub.status.busy": "2021-09-28T11:07:55.613245Z",
     "iopub.status.idle": "2021-09-28T11:07:55.619829Z",
     "shell.execute_reply": "2021-09-28T11:07:55.619020Z",
     "shell.execute_reply.started": "2021-09-28T11:07:55.613577Z"
    }
   },
   "outputs": [],
   "source": [
    "print(\"Training set instances:\", train_df.shape[0])\n",
    "print(\"Testing set instances:\", test_df.shape[0])"
   ]
  },
  {
   "cell_type": "markdown",
   "metadata": {},
   "source": [
    "# Creating keras Dataset"
   ]
  },
  {
   "cell_type": "code",
   "execution_count": 35,
   "metadata": {
    "execution": {
     "iopub.execute_input": "2021-09-28T12:07:53.350937Z",
     "iopub.status.busy": "2021-09-28T12:07:53.350663Z",
     "iopub.status.idle": "2021-09-28T12:07:53.495845Z",
     "shell.execute_reply": "2021-09-28T12:07:53.495158Z",
     "shell.execute_reply.started": "2021-09-28T12:07:53.350890Z"
    }
   },
   "outputs": [],
   "source": [
    "def generate_image_dataset(filepath, label=None):\n",
    "    image = tf.io.read_file(filepath)\n",
    "    image = tf.image.decode_jpeg(image, channels=3) \n",
    "    iamge = tf.cast(image, tf.float32) / 255.0\n",
    "    image = tf.image.resize(image, (IMAGE_SIZE, IMAGE_SIZE))\n",
    "    return image, label\n",
    "\n",
    "\n",
    "train, valid = train_test_split(train_df, test_size=0.1)\n",
    "dataset_train = (tf.data.Dataset.from_tensor_slices((train[\"Path\"].values,\n",
    "                                                    train[\"Pawpularity\"].values )).\n",
    "                 map(generate_image_dataset).batch(BATCH_SIZE).prefetch(1))\n",
    "dataset_valid = (tf.data.Dataset.from_tensor_slices((valid[\"Path\"].values,\n",
    "                                                    valid[\"Pawpularity\"].values)).\n",
    "                map(generate_image_dataset).batch(BATCH_SIZE).prefetch(1))"
   ]
  },
  {
   "cell_type": "code",
   "execution_count": 7,
   "metadata": {
    "execution": {
     "iopub.execute_input": "2021-09-28T11:07:57.345893Z",
     "iopub.status.busy": "2021-09-28T11:07:57.345655Z",
     "iopub.status.idle": "2021-09-28T11:07:57.651227Z",
     "shell.execute_reply": "2021-09-28T11:07:57.650515Z",
     "shell.execute_reply.started": "2021-09-28T11:07:57.345860Z"
    }
   },
   "outputs": [],
   "source": [
    "data_augmentation = keras.Sequential([\n",
    "        keras.layers.experimental.preprocessing.Normalization(),\n",
    "        keras.layers.experimental.preprocessing.Resizing(IMAGE_SIZE, IMAGE_SIZE),\n",
    "        keras.layers.experimental.preprocessing.RandomFlip(\"horizontal\"),\n",
    "        # random rotation in range [-20% * 2pi, 20% * 2pi]\n",
    "        keras.layers.experimental.preprocessing.RandomRotation(factor=0.02), \n",
    "        # A positive value means zooming out, while a negative value means zooming in.\n",
    "        keras.layers.experimental.preprocessing.RandomZoom(\n",
    "            height_factor=0.2, width_factor=0.2\n",
    "        # output zoomed out vertically in range [20%, 20%]\n",
    "        # output zoomed out horizontally in the range [20%, 20%]\n",
    "        )\n",
    "    ],\n",
    "    name=\"data_augmentaion\"\n",
    ")"
   ]
  },
  {
   "cell_type": "code",
   "execution_count": null,
   "metadata": {},
   "outputs": [],
   "source": [
    "def get_run_logdir():\n",
    "    import time\n",
    "    run_id = time.strftime(\"run_%Y_%m_%d-%H_%M_%S\")\n",
    "    return os.path.join(ROOT_LOGDIR, run_id)"
   ]
  },
  {
   "cell_type": "code",
   "execution_count": 36,
   "metadata": {
    "execution": {
     "iopub.execute_input": "2021-09-28T12:07:58.984578Z",
     "iopub.status.busy": "2021-09-28T12:07:58.983934Z",
     "iopub.status.idle": "2021-09-28T12:07:58.993346Z",
     "shell.execute_reply": "2021-09-28T12:07:58.992571Z",
     "shell.execute_reply.started": "2021-09-28T12:07:58.984545Z"
    }
   },
   "outputs": [],
   "source": [
    "def train_experimental_model(model, optimizer,\n",
    "                             checkpoint_name=None):\n",
    "    model.compile(\n",
    "        optimizer=optimizer,\n",
    "        loss=keras.losses.MeanSquaredError(),\n",
    "        metrics=[\n",
    "            keras.metrics.RootMeanSquaredError(name=\"rmse\"),\n",
    "            \"mae\",\n",
    "        ]\n",
    "    )\n",
    "    \n",
    "    # Create callbacks\n",
    "    if checkpoint_name==None:\n",
    "        raise ValueError(\"Provide checpoint model name.\")\n",
    "    checkpoint_callback = keras.callbacks.ModelCheckpoint(\n",
    "        checkpoint_name,\n",
    "        monitor=\"val_rmse\",\n",
    "        save_best_only=True,\n",
    "        save_weights_only=False\n",
    "    )\n",
    "    early_stopping_callback = keras.callbacks.EarlyStopping(\n",
    "        patience=10,\n",
    "        restore_best_weights=True,\n",
    "        min_delta=1e-4,\n",
    "    )\n",
    "    reduce_lr = keras.callbacks.ReduceLROnPlateau(\n",
    "        monitor=\"val_rmse\",\n",
    "        factor=0.3,\n",
    "        patience=3,\n",
    "        min_lr=1e-7\n",
    "    )\n",
    "    run_logdir = get_run_logdir()\n",
    "    tensorboard_cb = keras.callbacks.TensorBoard(run_logdir)\n",
    "    \n",
    "    history = model.fit(\n",
    "        dataset_train,\n",
    "        validation_data=dataset_valid,\n",
    "        batch_size=BATCH_SIZE,\n",
    "        epochs=NO_OF_EPOCHS,\n",
    "        callbacks=[checkpoint_callback, early_stopping_callback, reduce_lr, tensorboard_cb]\n",
    "    )\n",
    "    return history"
   ]
  },
  {
   "cell_type": "markdown",
   "metadata": {},
   "source": [
    "# Let's train a EfficientNet CNN"
   ]
  },
  {
   "cell_type": "code",
   "execution_count": 37,
   "metadata": {
    "execution": {
     "iopub.execute_input": "2021-09-28T12:08:01.021472Z",
     "iopub.status.busy": "2021-09-28T12:08:01.020699Z",
     "iopub.status.idle": "2021-09-28T12:08:02.982720Z",
     "shell.execute_reply": "2021-09-28T12:08:02.982032Z",
     "shell.execute_reply.started": "2021-09-28T12:08:01.021424Z"
    }
   },
   "outputs": [],
   "source": [
    "inputs = keras.layers.Input(shape=(IMAGE_SIZE, IMAGE_SIZE, 3))\n",
    "efficient_net = keras.applications.EfficientNetB0(\n",
    "    include_top=False,\n",
    "    weights=None,\n",
    "    input_tensor=inputs,\n",
    "    input_shape=(IMAGE_SIZE, IMAGE_SIZE, 3),\n",
    "    pooling=None,\n",
    "    classes=None,\n",
    "    classifier_activation=None\n",
    ")\n",
    "efficient_net_output = efficient_net(inputs)\n",
    "# augmented_input = data_augmentation(efficient_net_output)\n",
    "globalAvgPool2D = keras.layers.GlobalAvgPool2D()(efficient_net_output)\n",
    "dense_layer_1 = keras.layers.Dense(100, activation=\"relu\")(globalAvgPool2D)\n",
    "dense_layer_2 = keras.layers.Dense(30, activation=\"relu\")(dense_layer_1)\n",
    "dense_layer_out = keras.layers.Dense(1)(dense_layer_2)\n",
    "\n",
    "efficientNet_model = keras.Model(inputs=inputs, outputs=dense_layer_out)"
   ]
  },
  {
   "cell_type": "code",
   "execution_count": 38,
   "metadata": {
    "execution": {
     "iopub.execute_input": "2021-09-28T12:08:03.472151Z",
     "iopub.status.busy": "2021-09-28T12:08:03.471878Z",
     "iopub.status.idle": "2021-09-28T12:08:03.497196Z",
     "shell.execute_reply": "2021-09-28T12:08:03.496495Z",
     "shell.execute_reply.started": "2021-09-28T12:08:03.472124Z"
    }
   },
   "outputs": [],
   "source": [
    "efficientNet_model.summary()"
   ]
  },
  {
   "cell_type": "code",
   "execution_count": 39,
   "metadata": {
    "execution": {
     "iopub.execute_input": "2021-09-28T12:08:07.170095Z",
     "iopub.status.busy": "2021-09-28T12:08:07.169798Z",
     "iopub.status.idle": "2021-09-28T12:54:54.297913Z",
     "shell.execute_reply": "2021-09-28T12:54:54.297167Z",
     "shell.execute_reply.started": "2021-09-28T12:08:07.170066Z"
    }
   },
   "outputs": [],
   "source": [
    "history = train_experimental_model(efficientNet_model,optimizer=keras.optimizers.Adam(),\n",
    "                                   checkpoint_name=\"efficientNetB0_model.h5\")"
   ]
  },
  {
   "cell_type": "markdown",
   "metadata": {},
   "source": [
    "# Visualization on TensorBoard"
   ]
  },
  {
   "cell_type": "code",
   "execution_count": null,
   "metadata": {},
   "outputs": [],
   "source": [
    "# TODO: Comment/Delete this when commiting\n",
    "# import os\n",
    "# import multiprocessing\n",
    "\n",
    "# !wget https://bin.equinox.io/c/4VmDzA7iaHb/ngrok-stable-linux-amd64.zip\n",
    "# !unzip ngrok-stable-linux-amd64.zip\n",
    "\n",
    "# pool = multiprocessing.Pool(processes = 10)\n",
    "# results_of_processes = [pool.apply_async(os.system, args=(cmd, ), callback = None )\n",
    "#                         for cmd in [\n",
    "#                         f\"tensorboard --logdir ./logs/ --host 0.0.0.0 --port 6006 &\",\n",
    "#                         \"./ngrok http 6006 &\"\n",
    "#                         ]]\n",
    "\n",
    "# ! curl -s http://localhost:4040/api/tunnels | python3 -c \\\n",
    "#     \"import sys, json; print(json.load(sys.stdin)['tunnels'][0]['public_url'])\""
   ]
  },
  {
   "cell_type": "markdown",
   "metadata": {},
   "source": [
    "# Submission "
   ]
  },
  {
   "cell_type": "code",
   "execution_count": 40,
   "metadata": {
    "execution": {
     "iopub.execute_input": "2021-09-28T12:56:12.765478Z",
     "iopub.status.busy": "2021-09-28T12:56:12.765211Z",
     "iopub.status.idle": "2021-09-28T12:56:14.105699Z",
     "shell.execute_reply": "2021-09-28T12:56:14.104982Z",
     "shell.execute_reply.started": "2021-09-28T12:56:12.765451Z"
    }
   },
   "outputs": [],
   "source": [
    "def generate_test_dataset(filepath):\n",
    "    image = tf.io.read_file(filepath)\n",
    "    image = tf.image.decode_jpeg(image, channels=3) \n",
    "    iamge = tf.cast(image, tf.float32) / 255.0\n",
    "    image = tf.image.resize(image, (IMAGE_SIZE, IMAGE_SIZE))\n",
    "    return image, 0\n",
    "\n",
    "\n",
    "def generate_submission_csv(model):\n",
    "    dataset_test = (tf.data.Dataset.from_tensor_slices(test_df[\"Path\"].values).\n",
    "                    map(generate_test_dataset).batch(BATCH_SIZE).prefetch(1))\n",
    "    submission_df = test_df[[\"Id\"]]\n",
    "    submission_df = submission_df.assign(Pawpularity=model.predict(dataset_test).reshape(-1))\n",
    "    submission_df.to_csv(\"submission.csv\", index=False)\n",
    "    \n",
    "generate_submission_csv(efficientNet_model)"
   ]
  },
  {
   "cell_type": "code",
   "execution_count": null,
   "metadata": {},
   "outputs": [],
   "source": []
  }
 ],
 "metadata": {
  "kernelspec": {
   "display_name": "Python 3 (ipykernel)",
   "language": "python",
   "name": "python3"
  },
  "language_info": {
   "codemirror_mode": {
    "name": "ipython",
    "version": 3
   },
   "file_extension": ".py",
   "mimetype": "text/x-python",
   "name": "python",
   "nbconvert_exporter": "python",
   "pygments_lexer": "ipython3",
   "version": "3.10.5"
  }
 },
 "nbformat": 4,
 "nbformat_minor": 4
}
